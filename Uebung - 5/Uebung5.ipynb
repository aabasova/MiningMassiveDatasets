{
 "cells": [
  {
   "cell_type": "markdown",
   "id": "d72051a3",
   "metadata": {},
   "source": [
    "# Problem Set 5\n",
    "\n"
   ]
  },
  {
   "cell_type": "markdown",
   "id": "dbe4424f",
   "metadata": {},
   "source": [
    "Team: \n",
    "    Lea Schmierer 3546563;\n",
    "    Angelina Basova 3704658;\n",
    "    Daniel Knorr 3727033"
   ]
  },
  {
   "cell_type": "markdown",
   "id": "85055ee5",
   "metadata": {},
   "source": [
    "## Exercise 1\n"
   ]
  },
  {
   "cell_type": "markdown",
   "id": "d5707a03",
   "metadata": {},
   "source": []
  },
  {
   "cell_type": "markdown",
   "id": "c81b48ab",
   "metadata": {},
   "source": [
    "## Exercise 2"
   ]
  },
  {
   "cell_type": "code",
   "execution_count": null,
   "id": "425674b3",
   "metadata": {},
   "outputs": [],
   "source": [
    "#import Blatt4_Aufg4\n",
    "\n",
    "dataStructure = {1: [[1, 2], [1, 2]], 2: [[1, 3], [1, 3]], 3: [[2], [2]], 4: [[], []]}\n",
    "N = len(dataStructure)\n",
    "rDicOLD = {}\n",
    "rDicNEW = {}\n",
    "T = 0\n",
    "beta = 0.8\n",
    "\n",
    "\n",
    "def initiate_R_Dic_Old_And_New(dataStructure):\n",
    "    for key in dataStructure.keys():\n",
    "        rDicOLD[key] = 1 / N\n",
    "        rDicNEW[key] = 0\n",
    "\n",
    "initiate_R_Dic_Old_And_New(dataStructure)\n",
    "\n",
    "\n",
    "# count == 0 --> 1. Iteration!\n",
    "while (T <= 5):\n",
    "    if (T > 0):\n",
    "        for element in rDicOLD.keys():\n",
    "            rDicOLD[element] = rDicNEW[element]\n",
    "    for key in dataStructure.keys():\n",
    "        ingoingListOfCurrentKey = dataStructure[key][1]\n",
    "        rNEW = 0\n",
    "        rNEW_ = 0\n",
    "        iteration = 0\n",
    "        for item in ingoingListOfCurrentKey:\n",
    "            amountOutgoingsFromCurrentItem = len(dataStructure[item][0])\n",
    "            rNEW_ = beta * (rDicOLD[item] * (1 / amountOutgoingsFromCurrentItem)) + rNEW_\n",
    "            iteration = iteration + 1\n",
    "            if (iteration == len(ingoingListOfCurrentKey)):\n",
    "                #TODO s = ...\n",
    "                #TODO rNEW = rNEW_ + (0.2*s)/N\n",
    "                rDicNEW[key] = rNEW\n",
    "    T = T + 1\n",
    "\n",
    "print(rDicNEW)\n",
    "\n"
   ]
  },
  {
   "cell_type": "markdown",
   "id": "2172ffa9",
   "metadata": {},
   "source": [
    "## Exercise 3"
   ]
  },
  {
   "cell_type": "markdown",
   "id": "43626aec",
   "metadata": {},
   "source": [
    "You can find the solution of this exercise in the zip file as a pdf. "
   ]
  },
  {
   "cell_type": "markdown",
   "id": "5d8746ce",
   "metadata": {},
   "source": [
    "## Exercise 4"
   ]
  },
  {
   "cell_type": "markdown",
   "id": "e18c33a0",
   "metadata": {},
   "source": [
    "You can find the solution of this exercise in the zip file as a pdf. "
   ]
  },
  {
   "cell_type": "markdown",
   "id": "55950b3c",
   "metadata": {},
   "source": [
    "## Exercise 5"
   ]
  }
 ],
 "metadata": {
  "kernelspec": {
   "display_name": "Python 3.8.10 64-bit",
   "language": "python",
   "name": "python3"
  },
  "language_info": {
   "codemirror_mode": {
    "name": "ipython",
    "version": 3
   },
   "file_extension": ".py",
   "mimetype": "text/x-python",
   "name": "python",
   "nbconvert_exporter": "python",
   "pygments_lexer": "ipython3",
   "version": "3.8.10"
  },
  "vscode": {
   "interpreter": {
    "hash": "916dbcbb3f70747c44a77c7bcd40155683ae19c65e1c03b4aa3499c5328201f1"
   }
  }
 },
 "nbformat": 4,
 "nbformat_minor": 5
}
