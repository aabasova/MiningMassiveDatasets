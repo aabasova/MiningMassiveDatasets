{
 "cells": [
  {
   "cell_type": "markdown",
   "id": "d72051a3",
   "metadata": {},
   "source": [
    "# Problem Set 7\n",
    "\n"
   ]
  },
  {
   "cell_type": "markdown",
   "id": "dbe4424f",
   "metadata": {},
   "source": [
    "Team: \n",
    "    Lea Schmierer 3546563;\n",
    "    Angelina Basova 3704658;\n",
    "    Daniel Knorr 3727033"
   ]
  },
  {
   "cell_type": "markdown",
   "id": "2b9b583c",
   "metadata": {},
   "source": [
    "## Exercise 1"
   ]
  },
  {
   "attachments": {},
   "cell_type": "markdown",
   "id": "44061560",
   "metadata": {},
   "source": [
    "#### Describe briefly the internal data structure used by HashMap for storing of map entries.\n",
    "The HashMap contains <key><value> pairs, where the <key> is a string and the <value> is a string or integer \n",
    "\n",
    "#### How is a new <key,value> pair added to a map? Consider the possibility that a collision of hash values may occur.\n",
    "The way you add <key,value> pairs to the HashMap is in the HashMap not structured in the same order.\n",
    "\n",
    "#### How is an entry retrieved given a search key? Consider the possibility that a bucket can have more than one entry"
   ]
  },
  {
   "cell_type": "markdown",
   "id": "c81b48ab",
   "metadata": {},
   "source": [
    "## Exercise 2"
   ]
  },
  {
   "cell_type": "markdown",
   "id": "2172ffa9",
   "metadata": {},
   "source": [
    "## Exercise 3"
   ]
  },
  {
   "cell_type": "markdown",
   "id": "5d8746ce",
   "metadata": {},
   "source": [
    "## Exercise 4"
   ]
  },
  {
   "attachments": {},
   "cell_type": "markdown",
   "id": "fec51e2c",
   "metadata": {},
   "source": [
    "### 4a\n",
    "If all dead ends are removed, then only the root node remains with the page rank 1."
   ]
  },
  {
   "cell_type": "markdown",
   "id": "d25373f2",
   "metadata": {},
   "source": [
    "### 4b\n"
   ]
  },
  {
   "attachments": {},
   "cell_type": "markdown",
   "id": "f40e5dc0",
   "metadata": {},
   "source": [
    "Given that the root node is on level 0, the dead end removed last is the node on level 1. Hence, we start computing the pagerank of the node in level 1.\n",
    "\n",
    "Pagerank of level 1 dead-end: r_a *1/2 = 1/2, given that r_a is the pagerank of the root node, which equals to 1 as stated in 4a).\n",
    "\n",
    "Pagerank of level 2 dead-end: r_a1 *1/2 = 1/2 * 1/2 = 1/4, given that r_a1 is the pagerank of the level 1 node, which equals to 1 as stated in 4a).\n",
    "\n",
    "Pagerank level 3: 1/4 * 1/2 = 1/8\n",
    "\n",
    "\n",
    "Hence, the pagerank of a level i dead end is 1/2**i * 1/2. \n",
    "\n",
    "\n",
    "Regarding the sum of the PageRanks, if we follow a path in the binary tree then the sum of the pageranks converges to 2, as in the root node we have a pagerank of 1, in the following 1/2, then 1/4 and so on. Hence, we iterative add a smaller pagerank resulting into the convergence to 2.\n"
   ]
  }
 ],
 "metadata": {
  "kernelspec": {
   "display_name": "Python 3 (ipykernel)",
   "language": "python",
   "name": "python3"
  },
  "language_info": {
   "codemirror_mode": {
    "name": "ipython",
    "version": 3
   },
   "file_extension": ".py",
   "mimetype": "text/x-python",
   "name": "python",
   "nbconvert_exporter": "python",
   "pygments_lexer": "ipython3",
   "version": "3.8.10"
  },
  "vscode": {
   "interpreter": {
    "hash": "916dbcbb3f70747c44a77c7bcd40155683ae19c65e1c03b4aa3499c5328201f1"
   }
  }
 },
 "nbformat": 4,
 "nbformat_minor": 5
}
