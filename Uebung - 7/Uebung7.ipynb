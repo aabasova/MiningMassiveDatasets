{
 "cells": [
  {
   "cell_type": "markdown",
   "id": "d72051a3",
   "metadata": {},
   "source": [
    "# Problem Set 7\n",
    "\n"
   ]
  },
  {
   "cell_type": "markdown",
   "id": "dbe4424f",
   "metadata": {},
   "source": [
    "Team: \n",
    "    Lea Schmierer 3546563;\n",
    "    Angelina Basova 3704658;\n",
    "    Daniel Knorr 3727033"
   ]
  },
  {
   "cell_type": "markdown",
   "id": "2b9b583c",
   "metadata": {},
   "source": [
    "## Exercise 1"
   ]
  },
  {
   "attachments": {},
   "cell_type": "markdown",
   "id": "44061560",
   "metadata": {},
   "source": [
    "#### Describe briefly the internal data structure used by HashMap for storing of map entries.\n",
    "The HashMap contains <key><value> pairs, where the <key> is a string and the <value> is a string or integer \n",
    "\n",
    "#### How is a new <key,value> pair added to a map? Consider the possibility that a collision of hash values may occur.\n",
    "The way you add <key,value> pairs to the HashMap is in the HashMap not structured in the same order.\n",
    "\n",
    "#### How is an entry retrieved given a search key? Consider the possibility that a bucket can have more than one entry"
   ]
  },
  {
   "cell_type": "markdown",
   "id": "c81b48ab",
   "metadata": {},
   "source": [
    "## Exercise 2"
   ]
  },
  {
   "cell_type": "markdown",
   "id": "2172ffa9",
   "metadata": {},
   "source": [
    "## Exercise 3"
   ]
  },
  {
   "cell_type": "markdown",
   "id": "5d8746ce",
   "metadata": {},
   "source": [
    "## Exercise 4"
   ]
  },
  {
   "attachments": {},
   "cell_type": "markdown",
   "id": "fec51e2c",
   "metadata": {},
   "source": [
    "### 4a\n",
    "If I remove all dead ends, then only the root node remains with the page rank with 1."
   ]
  },
  {
   "cell_type": "markdown",
   "id": "d25373f2",
   "metadata": {},
   "source": [
    "### 4b\n"
   ]
  }
 ],
 "metadata": {
  "kernelspec": {
   "display_name": "Python 3 (ipykernel)",
   "language": "python",
   "name": "python3"
  },
  "language_info": {
   "codemirror_mode": {
    "name": "ipython",
    "version": 3
   },
   "file_extension": ".py",
   "mimetype": "text/x-python",
   "name": "python",
   "nbconvert_exporter": "python",
   "pygments_lexer": "ipython3",
   "version": "3.8.10"
  },
  "vscode": {
   "interpreter": {
    "hash": "916dbcbb3f70747c44a77c7bcd40155683ae19c65e1c03b4aa3499c5328201f1"
   }
  }
 },
 "nbformat": 4,
 "nbformat_minor": 5
}
