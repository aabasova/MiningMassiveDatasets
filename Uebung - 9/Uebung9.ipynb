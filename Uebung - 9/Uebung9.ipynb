{
 "cells": [
  {
   "attachments": {},
   "cell_type": "markdown",
   "id": "d72051a3",
   "metadata": {},
   "source": [
    "# Problem Set 9\n",
    "\n"
   ]
  },
  {
   "cell_type": "markdown",
   "id": "dbe4424f",
   "metadata": {},
   "source": [
    "Team: \n",
    "    Lea Schmierer 3546563;\n",
    "    Angelina Basova 3704658;\n",
    "    Daniel Knorr 3727033"
   ]
  },
  {
   "cell_type": "markdown",
   "id": "2b9b583c",
   "metadata": {},
   "source": [
    "## Exercise 1"
   ]
  },
  {
   "cell_type": "markdown",
   "id": "c81b48ab",
   "metadata": {},
   "source": [
    "## Exercise 2"
   ]
  },
  {
   "attachments": {},
   "cell_type": "markdown",
   "id": "388a1c81",
   "metadata": {},
   "source": [
    "#### a) \n",
    "We counted the support of each item and possible pairs of items.\n",
    "\n",
    "\n",
    "Support of {1} = 4\n",
    "\n",
    "Support of {2} = 6\n",
    "\n",
    "Support of {3} = 8\n",
    "\n",
    "Support of {4} = 8\n",
    "\n",
    "Support of {5} = 6\n",
    "\n",
    "Support of {6} = 4\n",
    "\n",
    "\n",
    "Support of {1,2} = 2\n",
    "\n",
    "Support of {1,3} = 3\n",
    "\n",
    "Support of {1,4} = 2\n",
    "\n",
    "Support of {1,5} = 1\n",
    "\n",
    "\n",
    "Support of {2,3} = 3\n",
    "\n",
    "Support of {2,4} = 4\n",
    "\n",
    "Support of {2,5} = 2\n",
    "\n",
    "Support of {2,6} = 1\n",
    "\n",
    "\n",
    "Support of {3,4} = 4\n",
    "\n",
    "Support of {3,5} = 4\n",
    "\n",
    "Support of {3,6} = 2\n",
    "\n",
    "\n",
    "Support of {4,5} = 3\n",
    "\n",
    "Support of {4,6} = 3\n",
    "\n",
    "\n",
    "Support of {5,6} = 2"
   ]
  },
  {
   "attachments": {},
   "cell_type": "markdown",
   "id": "03ee42c0",
   "metadata": {},
   "source": [
    "### b)\n",
    "\n",
    "Computation example: \n",
    "\n",
    "Pair {1,2} hashes to = 1*2 mod 11 = 2\n",
    "\n",
    "Pair {3,5} hashes to = 3*5 mod 11 = 4\n",
    "\n",
    "{1,2} hashes to bucket 2\n",
    "\n",
    "{1,3} hashes to bucket 3\n",
    "\n",
    "{1,4} hashes to bucket 4\n",
    "\n",
    "{1,5} hashes to bucket 5\n",
    "\n",
    "{2,3} hashes to bucket 6\n",
    "\n",
    "{2,4} hashes to bucket 8\n",
    "\n",
    "{2,5} hashes to bucket 10\n",
    "\n",
    "{2,6} hashes to bucket 1\n",
    "\n",
    "{3,4} hashes to bucket 1\n",
    "\n",
    "{3,5} hashes to bucket 4\n",
    "\n",
    "{3,6} hashes to bucket 7\n",
    "\n",
    "{4,5} hashes to bucket 9\n",
    "\n",
    "{4,6} hashes to bucket 2\n",
    "\n",
    "{5,6} hashes to bucket 8\n"
   ]
  },
  {
   "attachments": {},
   "cell_type": "markdown",
   "id": "a69334e9",
   "metadata": {},
   "source": [
    "### c)\n",
    "\n",
    "Busket 1: {1,2} -> Bucket 2; {1,3} -> Bucket 3; {2,3} -> Bucket 6\n",
    "\n",
    "Busket 2: {2,3} -> Bucket 6; {2,4} -> Bucket 8; {3,4} -> Bucket 1\n",
    "\n",
    "Busket 3: {3,4} -> Bucket 1; {3,5} -> Bucket 4; {4,5} -> Bucket 9\n",
    "\n",
    "Busket 4: {4,5} -> Bucket 9; {4,6} -> Bucket 2; {5,6} -> Bucket 8\n",
    "\n",
    "Busket 5: {1,3} -> Bucket 3; {1,5} -> Bucket 5; {3,5} -> Bucket 4\n",
    "\n",
    "Busket 6: {2,4} -> Bucket 8; {2,6} -> Bucket 1; {4,6} -> Bucket 2\n",
    "\n",
    "Busket 7: {1,3} -> Bucket 3; {1,4} -> Bucket 4; {3,4} -> Bucket 1\n",
    "\n",
    "Busket 8: {2,4} -> Bucket 8; {2,5} -> Bucket 10; {4,5} -> Bucket 9\n",
    "\n",
    "Busket 9: {3,5} -> Bucket 4; {3,6} -> Bucket 7; {5,6} -> Bucket 8\n",
    "\n",
    "Busket 10: {1,2} -> Bucket 2; {1,4} -> Bucket 4; {2,4} -> Bucket 8\n",
    "\n",
    "Busket 11: {2,3} -> Bucket 6; {2,5} -> Bucket 10; {3,5} -> Bucket 4\n",
    "\n",
    "Busket 12: {3,4} -> Bucket 1; {3,6} -> Bucket 7; {4,6} -> Bucket 2\n",
    "\n",
    "\n",
    "Count bucket 1 = 5 \n",
    "\n",
    "Count bucket 2 = 5 \n",
    "\n",
    "Count bucket 3 = 3\n",
    "\n",
    "Count bucket 4 = 6\n",
    "\n",
    "Count bucket 5 = 1\n",
    "\n",
    "Count bucket 6 = 3\n",
    "\n",
    "Count bucket 7 = 2\n",
    "\n",
    "Count bucket 8 = 6\n",
    "\n",
    "Count bucket 9 = 3\n",
    "\n",
    "Count bucket 10 = 2\n",
    "\n",
    "Count bucket 11 = 0\n",
    "\n",
    "Frequent buckets: 1,2,4,8"
   ]
  },
  {
   "attachments": {},
   "cell_type": "markdown",
   "id": "b94ecfdd",
   "metadata": {},
   "source": [
    "### d)\n",
    "\n",
    "Pass 2: \n",
    "\n",
    "{3,4}, {2,6}\n",
    "\n",
    "{1,2}, {4,6}\n",
    "\n",
    "{3,5}, {1,4}\n",
    "\n",
    "{2,4}, {5,6}"
   ]
  },
  {
   "cell_type": "markdown",
   "id": "2172ffa9",
   "metadata": {},
   "source": [
    "## Exercise 3"
   ]
  },
  {
   "cell_type": "markdown",
   "id": "5d8746ce",
   "metadata": {},
   "source": [
    "## Exercise 4"
   ]
  },
  {
   "attachments": {},
   "cell_type": "markdown",
   "id": "f7df5f0e",
   "metadata": {},
   "source": [
    "## Exercise 5\n"
   ]
  },
  {
   "attachments": {},
   "cell_type": "markdown",
   "id": "968a24e5",
   "metadata": {},
   "source": [
    "## Exercise 6"
   ]
  },
  {
   "attachments": {},
   "cell_type": "markdown",
   "id": "2403e008",
   "metadata": {},
   "source": [
    "You can find the solution of this exercise in the zip file as a pdf. "
   ]
  },
  {
   "attachments": {},
   "cell_type": "markdown",
   "id": "33076269",
   "metadata": {},
   "source": [
    "## Exercise 7"
   ]
  },
  {
   "attachments": {},
   "cell_type": "markdown",
   "id": "41aa0f2b",
   "metadata": {},
   "source": [
    "The sequence 4) xzyz is handled optimally by the algorithm, because the BAL = 4 Dollars. -> ABAB \n",
    "\n",
    "The sequence 4) is handled optimally by the algorithm, because the balance can always be maintained and the advertisers always have to pay alternately and still receive a BAL of 4 dollars."
   ]
  },
  {
   "attachments": {},
   "cell_type": "markdown",
   "id": "9815253c",
   "metadata": {},
   "source": [
    "## Exercise 8"
   ]
  }
 ],
 "metadata": {
  "kernelspec": {
   "display_name": "Python 3 (ipykernel)",
   "language": "python",
   "name": "python3"
  },
  "language_info": {
   "codemirror_mode": {
    "name": "ipython",
    "version": 3
   },
   "file_extension": ".py",
   "mimetype": "text/x-python",
   "name": "python",
   "nbconvert_exporter": "python",
   "pygments_lexer": "ipython3",
   "version": "3.8.10 (default, Jun 22 2022, 20:18:18) \n[GCC 9.4.0]"
  },
  "vscode": {
   "interpreter": {
    "hash": "916dbcbb3f70747c44a77c7bcd40155683ae19c65e1c03b4aa3499c5328201f1"
   }
  }
 },
 "nbformat": 4,
 "nbformat_minor": 5
}
