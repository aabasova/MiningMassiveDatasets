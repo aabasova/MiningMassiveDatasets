{
 "cells": [
  {
   "attachments": {},
   "cell_type": "markdown",
   "id": "d72051a3",
   "metadata": {},
   "source": [
    "# Problem Set 9\n",
    "\n"
   ]
  },
  {
   "cell_type": "markdown",
   "id": "dbe4424f",
   "metadata": {},
   "source": [
    "Team: \n",
    "    Lea Schmierer 3546563;\n",
    "    Angelina Basova 3704658;\n",
    "    Daniel Knorr 3727033"
   ]
  },
  {
   "cell_type": "markdown",
   "id": "2b9b583c",
   "metadata": {},
   "source": [
    "## Exercise 1"
   ]
  },
  {
   "cell_type": "markdown",
   "id": "c81b48ab",
   "metadata": {},
   "source": [
    "## Exercise 2"
   ]
  },
  {
   "attachments": {},
   "cell_type": "markdown",
   "id": "388a1c81",
   "metadata": {},
   "source": [
    "#### a) \n",
    "We counted the support of each item and possible pairs of items.\n",
    "\n",
    "\n",
    "Support of {1} = 4\n",
    "\n",
    "Support of {2} = 6\n",
    "\n",
    "Support of {3} = 8\n",
    "\n",
    "Support of {4} = 8\n",
    "\n",
    "Support of {5} = 6\n",
    "\n",
    "Support of {6} = 4\n",
    "\n",
    "\n",
    "Support of {1,2} = 2\n",
    "\n",
    "Support of {1,3} = 3\n",
    "\n",
    "Support of {1,4} = 2\n",
    "\n",
    "Support of {1,5} = 1\n",
    "\n",
    "\n",
    "Support of {2,3} = 3\n",
    "\n",
    "Support of {2,4} = 4\n",
    "\n",
    "Support of {2,5} = 2\n",
    "\n",
    "Support of {2,6} = 1\n",
    "\n",
    "\n",
    "Support of {3,4} = 4\n",
    "\n",
    "Support of {3,5} = 4\n",
    "\n",
    "Support of {3,6} = 2\n",
    "\n",
    "\n",
    "Support of {4,5} = 3\n",
    "\n",
    "Support of {4,6} = 3\n",
    "\n",
    "\n",
    "Support of {5,6} = 2"
   ]
  },
  {
   "attachments": {},
   "cell_type": "markdown",
   "id": "03ee42c0",
   "metadata": {},
   "source": [
    "### b)\n",
    "\n",
    "Computation example: \n",
    "\n",
    "Pair {1,2} hashes to = 1*2 mod 11 = 2\n",
    "\n",
    "Pair {3,5} hashes to = 3*5 mod 11 = 4\n",
    "\n",
    "{1,2} hashes to bucket 2\n",
    "\n",
    "{1,3} hashes to bucket 3\n",
    "\n",
    "{1,4} hashes to bucket 4\n",
    "\n",
    "{1,5} hashes to bucket 5\n",
    "\n",
    "{2,3} hashes to bucket 6\n",
    "\n",
    "{2,4} hashes to bucket 8\n",
    "\n",
    "{2,5} hashes to bucket 10\n",
    "\n",
    "{2,6} hashes to bucket 1\n",
    "\n",
    "{3,4} hashes to bucket 1\n",
    "\n",
    "{3,5} hashes to bucket 4\n",
    "\n",
    "{3,6} hashes to bucket 7\n",
    "\n",
    "{4,5} hashes to bucket 9\n",
    "\n",
    "{4,6} hashes to bucket 2\n",
    "\n",
    "{5,6} hashes to bucket 8\n"
   ]
  },
  {
   "attachments": {},
   "cell_type": "markdown",
   "id": "a69334e9",
   "metadata": {},
   "source": [
    "### c)\n",
    "\n",
    "None"
   ]
  },
  {
   "attachments": {},
   "cell_type": "markdown",
   "id": "b94ecfdd",
   "metadata": {},
   "source": [
    "### d)\n",
    "\n",
    "None"
   ]
  },
  {
   "cell_type": "markdown",
   "id": "2172ffa9",
   "metadata": {},
   "source": [
    "## Exercise 3"
   ]
  },
  {
   "cell_type": "markdown",
   "id": "5d8746ce",
   "metadata": {},
   "source": [
    "## Exercise 4"
   ]
  },
  {
   "attachments": {},
   "cell_type": "markdown",
   "id": "f7df5f0e",
   "metadata": {},
   "source": [
    "## Exercise 5\n"
   ]
  },
  {
   "attachments": {},
   "cell_type": "markdown",
   "id": "968a24e5",
   "metadata": {},
   "source": [
    "## Exercise 6"
   ]
  },
  {
   "attachments": {},
   "cell_type": "markdown",
   "id": "33076269",
   "metadata": {},
   "source": [
    "## Exercise 7"
   ]
  },
  {
   "attachments": {},
   "cell_type": "markdown",
   "id": "9815253c",
   "metadata": {},
   "source": [
    "## Exercise 8"
   ]
  }
 ],
 "metadata": {
  "kernelspec": {
   "display_name": "Python 3 (ipykernel)",
   "language": "python",
   "name": "python3"
  },
  "language_info": {
   "codemirror_mode": {
    "name": "ipython",
    "version": 3
   },
   "file_extension": ".py",
   "mimetype": "text/x-python",
   "name": "python",
   "nbconvert_exporter": "python",
   "pygments_lexer": "ipython3",
   "version": "3.8.10 (default, Jun 22 2022, 20:18:18) \n[GCC 9.4.0]"
  },
  "vscode": {
   "interpreter": {
    "hash": "916dbcbb3f70747c44a77c7bcd40155683ae19c65e1c03b4aa3499c5328201f1"
   }
  }
 },
 "nbformat": 4,
 "nbformat_minor": 5
}
