{
 "cells": [
  {
   "attachments": {},
   "cell_type": "markdown",
   "id": "d72051a3",
   "metadata": {},
   "source": [
    "# Problem Set 10\n",
    "\n"
   ]
  },
  {
   "cell_type": "markdown",
   "id": "dbe4424f",
   "metadata": {},
   "source": [
    "Team: \n",
    "    Lea Schmierer 3546563;\n",
    "    Angelina Basova 3704658;\n",
    "    Daniel Knorr 3727033"
   ]
  },
  {
   "cell_type": "markdown",
   "id": "2b9b583c",
   "metadata": {},
   "source": [
    "## Exercise 1"
   ]
  },
  {
   "attachments": {},
   "cell_type": "markdown",
   "id": "214d6e1f",
   "metadata": {},
   "source": [
    "You can find the solution of this exercise in the zip file as a pdf. "
   ]
  },
  {
   "cell_type": "markdown",
   "id": "c81b48ab",
   "metadata": {},
   "source": [
    "## Exercise 2"
   ]
  },
  {
   "cell_type": "markdown",
   "id": "2172ffa9",
   "metadata": {},
   "source": [
    "## Exercise 3"
   ]
  },
  {
   "cell_type": "markdown",
   "id": "5d8746ce",
   "metadata": {},
   "source": [
    "## Exercise 4"
   ]
  },
  {
   "attachments": {},
   "cell_type": "markdown",
   "id": "3740824d",
   "metadata": {},
   "source": [
    "a)\n",
    "\n",
    "1-(1-1/n)\n",
    "\n",
    "= 1-(1-1/5) = 0,2 = 20%\n",
    "\n",
    "Every bit is equally likely to be hit by a hash function.\n",
    "\n"
   ]
  },
  {
   "attachments": {},
   "cell_type": "markdown",
   "id": "7d0ff996",
   "metadata": {},
   "source": [
    "b) \n",
    "\n",
    "You can find the solution of this exercise in the zip file as a pdf. \n"
   ]
  },
  {
   "attachments": {},
   "cell_type": "markdown",
   "id": "5ba5f57c",
   "metadata": {},
   "source": [
    "c) \n",
    "\n",
    "false positive probability \n",
    "\n",
    "= (1-e^(-km/n))^k \n",
    "\n",
    "= (1-e^(-2m/5))^2"
   ]
  },
  {
   "attachments": {},
   "cell_type": "markdown",
   "id": "f7df5f0e",
   "metadata": {},
   "source": [
    "## Exercise 5\n"
   ]
  },
  {
   "cell_type": "code",
   "execution_count": 7,
   "id": "de438a30",
   "metadata": {},
   "outputs": [
    {
     "name": "stdout",
     "output_type": "stream",
     "text": [
      "[0.6931471805599453, 1.3862943611198906, 2.0794415416798357, 2.772588722239781, 3.4657359027997265, 4.1588830833596715, 4.852030263919617, 5.545177444479562, 6.238324625039508, 6.931471805599453, 7.6246189861593985, 8.317766166719343, 9.010913347279288, 9.704060527839234, 10.39720770839918, 11.090354888959125, 11.78350206951907, 12.476649250079015, 13.16979643063896, 13.862943611198906]\n"
     ]
    },
    {
     "data": {
      "image/png": "[encoded data removed]",
      "text/plain": [
       "<Figure size 640x480 with 1 Axes>"
      ]
     },
     "metadata": {},
     "output_type": "display_data"
    }
   ],
   "source": [
    "## a) \n",
    "# (x*m)/m * ln(2) \n",
    "# with x = [1,...,20]\n",
    "# You can cut out m\n",
    "# So the optimal value of k is just the multiple of ln(2)\n",
    "\n",
    "import matplotlib.pyplot as plt\n",
    "from numpy import log as ln\n",
    "\n",
    "x=20\n",
    "i=1\n",
    "k_opt_list= []\n",
    "\n",
    "while i<= x:\n",
    "    k_opt=i*ln(2)\n",
    "    i=i+1\n",
    "    k_opt_list.append(k_opt)\n",
    "\n",
    "print(k_opt_list)\n",
    "\n",
    "plt.plot(k_opt_list)\n",
    "plt.xlabel('optimal value of k')\n",
    "plt.show()"
   ]
  },
  {
   "attachments": {},
   "cell_type": "markdown",
   "id": "968a24e5",
   "metadata": {},
   "source": [
    "## Exercise 6"
   ]
  },
  {
   "attachments": {},
   "cell_type": "markdown",
   "id": "33076269",
   "metadata": {},
   "source": [
    "## Exercise 7 - Bonus"
   ]
  },
  {
   "attachments": {},
   "cell_type": "markdown",
   "id": "cf3b3e8f",
   "metadata": {},
   "source": [
    "You can find the solution of this exercise in the zip file as a jpg. "
   ]
  },
  {
   "attachments": {},
   "cell_type": "markdown",
   "id": "9815253c",
   "metadata": {},
   "source": [
    "## Exercise 8"
   ]
  },
  {
   "attachments": {},
   "cell_type": "markdown",
   "id": "f68572fa",
   "metadata": {},
   "source": [
    "## Exercise 9"
   ]
  },
  {
   "attachments": {},
   "cell_type": "markdown",
   "id": "2fa3e83f",
   "metadata": {},
   "source": [
    "## Exercise 10 - Bonus"
   ]
  }
 ],
 "metadata": {
  "kernelspec": {
   "display_name": "Python 3 (ipykernel)",
   "language": "python",
   "name": "python3"
  },
  "language_info": {
   "codemirror_mode": {
    "name": "ipython",
    "version": 3
   },
   "file_extension": ".py",
   "mimetype": "text/x-python",
   "name": "python",
   "nbconvert_exporter": "python",
   "pygments_lexer": "ipython3",
   "version": "3.8.10"
  },
  "vscode": {
   "interpreter": {
    "hash": "916dbcbb3f70747c44a77c7bcd40155683ae19c65e1c03b4aa3499c5328201f1"
   }
  }
 },
 "nbformat": 4,
 "nbformat_minor": 5
}
