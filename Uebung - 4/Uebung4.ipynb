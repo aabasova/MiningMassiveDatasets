{
 "cells": [
  {
   "cell_type": "markdown",
   "id": "d72051a3",
   "metadata": {},
   "source": [
    "# Problem Set 4\n",
    "\n"
   ]
  },
  {
   "cell_type": "markdown",
   "id": "dbe4424f",
   "metadata": {},
   "source": [
    "Team: \n",
    "    Lea Schmierer 3546563;\n",
    "    Angelina Basova 3704658;\n",
    "    Daniel Knorr 3727033"
   ]
  },
  {
   "cell_type": "markdown",
   "id": "85055ee5",
   "metadata": {},
   "source": [
    "## Exercise 1\n"
   ]
  },
  {
   "cell_type": "markdown",
   "id": "c81b48ab",
   "metadata": {},
   "source": [
    "## Exercise 2"
   ]
  },
  {
   "cell_type": "markdown",
   "id": "d606fb41",
   "metadata": {},
   "source": [
    "#### a) Explain briefly why all nodes in the clique have the same PageRank value.\n",
    "\n",
    "All nodes in the clique have the same value, because they all have the same number of in-links and out-links, therefore none of these nodes are more important than the others. Every note is weighted the same.\n",
    "\n"
   ]
  },
  {
   "cell_type": "markdown",
   "id": "3ea59239",
   "metadata": {},
   "source": [
    "#### b) \n",
    "The Google Matrix A: A= beta* M+(1-beta)*[1/N] with beta = probability to follow a link at random\n",
    "\n",
    "Now: beta= 1 (??????? -> ODER???? oder ist 1-beta= 1????????)\n",
    "\n",
    "MATRIX IN SKRIPT????   -> NEIN DAS AUS DER AUFGABE NOCH ABSCHREIBEN!!! \n",
    "\n",
    "--> A= beta* M+0* [1/N] = beta* M  with beta = probability to follow a link at random\n",
    "\n",
    " Matrix A in the script: \n",
    " A= 1*[\n",
    "       [1/2, 1/2, 0],\n",
    "       [1/2, 0, 0],\n",
    "       [0, 1/2, 1], ]  \n",
    "  = [\n",
    "       [1/2, 1/2, 0],\n",
    "       [1/2, 0, 0],\n",
    "       [0, 1/2, 1], ]\n",
    "\n",
    "\n",
    "NEIINNN SEITE 42 nochmal schauen da steht was dazu \n",
    "\n"
   ]
  },
  {
   "cell_type": "markdown",
   "id": "95f246a6",
   "metadata": {},
   "source": [
    "#### c)\n"
   ]
  },
  {
   "cell_type": "markdown",
   "id": "7275817d",
   "metadata": {},
   "source": [
    "#### d) Explain briefly why random teleports not only solve the spider trap problem but also the dead ends problem. \n",
    "\n",
    "There are two approaches to dealing with dead ends: \n",
    "- We can drop the dead ends from the graph and their incoming arcs.\n",
    "- We can modify the process by which random surfers are assumed to move about the web. This approach also resolves the problem of spider traps. It is also called taxation\n",
    "\n",
    "Procedure:\n",
    "If we use the first approach, then we solve the remaining graph G by different appropriate, including the taxation\n",
    "method. \n",
    "We restore the graph and keep the PageRank values. Nodes not in G, but with predecessors all in G can have their PageRank computed by summing, over all predecessors p, the PageRank of p divided by the number of successors of p in the graph. \n",
    "Now there may be other nodes, not in G, that have the PageRank of all their predecessors computed. These may have their own PageRank computed by the same process. Eventually, all nodes outside G will have their PageRank computed; they can surely be computed in the order opposite to that in which\n",
    "they were deleted.\n",
    "\n",
    "Solution: \n",
    "The previous procedure describes how the columns of a matrix M were made stochastic so that teleportation can always be done when there is nowhere else to go.\n"
   ]
  },
  {
   "cell_type": "markdown",
   "id": "2172ffa9",
   "metadata": {},
   "source": [
    "## Exercise 3"
   ]
  },
  {
   "cell_type": "markdown",
   "id": "5d8746ce",
   "metadata": {},
   "source": [
    "## Exercise 4"
   ]
  }
 ],
 "metadata": {
  "kernelspec": {
   "display_name": "Python 3.8.10 64-bit",
   "language": "python",
   "name": "python3"
  },
  "language_info": {
   "codemirror_mode": {
    "name": "ipython",
    "version": 3
   },
   "file_extension": ".py",
   "mimetype": "text/x-python",
   "name": "python",
   "nbconvert_exporter": "python",
   "pygments_lexer": "ipython3",
   "version": "3.8.10"
  },
  "vscode": {
   "interpreter": {
    "hash": "916dbcbb3f70747c44a77c7bcd40155683ae19c65e1c03b4aa3499c5328201f1"
   }
  }
 },
 "nbformat": 4,
 "nbformat_minor": 5
}
