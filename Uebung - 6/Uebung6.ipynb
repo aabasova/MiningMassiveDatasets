{
 "cells": [
  {
   "cell_type": "markdown",
   "id": "d72051a3",
   "metadata": {},
   "source": [
    "# Problem Set 6\n",
    "\n"
   ]
  },
  {
   "cell_type": "markdown",
   "id": "dbe4424f",
   "metadata": {},
   "source": [
    "Team: \n",
    "    Lea Schmierer 3546563;\n",
    "    Angelina Basova 3704658;\n",
    "    Daniel Knorr 3727033"
   ]
  },
  {
   "cell_type": "markdown",
   "id": "85055ee5",
   "metadata": {},
   "source": [
    "## Exercise 1\n"
   ]
  },
  {
   "cell_type": "markdown",
   "id": "c81b48ab",
   "metadata": {},
   "source": [
    "## Exercise 2"
   ]
  },
  {
   "cell_type": "markdown",
   "id": "2172ffa9",
   "metadata": {},
   "source": [
    "## Exercise 3"
   ]
  },
  {
   "cell_type": "code",
   "execution_count": 25,
   "id": "ea6e2934",
   "metadata": {},
   "outputs": [
    {
     "name": "stdout",
     "output_type": "stream",
     "text": [
      "Exercise 3a)\n",
      "[[0, 0, 1, 0, 0, 1], [1, 1, 0, 0, 0, 0], [0, 0, 0, 1, 1, 0], [1, 0, 1, 0, 1, 0]]\n",
      "['(2 * x + 1) % 6', '(3 * x + 2) % 6', '(5 * x + 2) % 6']\n"
     ]
    }
   ],
   "source": [
    "######################\n",
    "print(\"Exercise 3a)\")\n",
    "######################\n",
    "S1=[0,0,1,0,0,1]\n",
    "S2=[1,1,0,0,0,0]\n",
    "S3=[0,0,0,1,1,0]\n",
    "S4=[1,0,1,0,1,0]\n",
    "\n",
    "doc = []\n",
    "doc.append(S1)\n",
    "doc.append(S2)\n",
    "doc.append(S3)\n",
    "doc.append(S4)\n",
    "print(doc)\n",
    "\n",
    "signatures = []\n",
    "hashcodes = []\n",
    "hashCode1 = '(2 * x + 1) % 6'\n",
    "hashCode2 = '(3 * x + 2) % 6'\n",
    "hashCode3 = '(5 * x + 2) % 6'\n",
    "hashcodes.append(hashCode1)\n",
    "hashcodes.append(hashCode2)\n",
    "hashcodes.append(hashCode3)\n",
    "print(hashcodes)\n",
    "\n",
    "\n",
    "\n"
   ]
  },
  {
   "cell_type": "markdown",
   "id": "d6901dd9",
   "metadata": {},
   "source": [
    "3b) \n",
    "Which of these hash functions are true permutations?\n",
    "\n",
    "\n",
    "What collisions do occur in the other hash functions?\n",
    "\n",
    "\n",
    "Name the corresponding inputs and outputs"
   ]
  },
  {
   "cell_type": "code",
   "execution_count": 16,
   "id": "55621acb",
   "metadata": {},
   "outputs": [
    {
     "name": "stdout",
     "output_type": "stream",
     "text": [
      "Exercise 3c)\n",
      "The Jaccard similarity between S1 and S2 is: 0.0\n",
      "The Jaccard similarity between S1 and S3 is: 0.0\n",
      "The Jaccard similarity between S1 and S4 is: 0.25\n",
      "The Jaccard similarity between S2 and S3 is: 0.0\n",
      "The Jaccard similarity between S2 and S4 is: 0.25\n",
      "The Jaccard similarity between S3 and S4 is: 0.25\n"
     ]
    }
   ],
   "source": [
    "######################\n",
    "print(\"Exercise 3c)\")\n",
    "######################\n",
    "\n",
    "from sklearn.metrics import jaccard_score\n",
    "\n",
    "S1S2 = jaccard_score(S1,S2)\n",
    "print (\"The Jaccard similarity between S1 and S2 is:\",S1S2)\n",
    "\n",
    "S1S3 = jaccard_score(S1,S3)\n",
    "print (\"The Jaccard similarity between S1 and S3 is:\",S1S3)\n",
    "\n",
    "S1S4 = jaccard_score(S1,S4)\n",
    "print (\"The Jaccard similarity between S1 and S4 is:\",S1S4)\n",
    "\n",
    "S2S3 = jaccard_score(S2,S3)\n",
    "print (\"The Jaccard similarity between S2 and S3 is:\",S2S3)\n",
    "\n",
    "S2S4 = jaccard_score(S2,S4)\n",
    "print (\"The Jaccard similarity between S2 and S4 is:\",S2S4)\n",
    "\n",
    "S3S4 = jaccard_score(S3,S4)\n",
    "print (\"The Jaccard similarity between S3 and S4 is:\",S3S4)"
   ]
  },
  {
   "cell_type": "markdown",
   "id": "5d8746ce",
   "metadata": {},
   "source": [
    "## Exercise 4"
   ]
  },
  {
   "cell_type": "code",
   "execution_count": 9,
   "id": "54468a94",
   "metadata": {},
   "outputs": [
    {
     "name": "stdout",
     "output_type": "stream",
     "text": [
      "Exercise 4)\n",
      "The similarity between S1 and S2 is: 0.0\n",
      "BEWEIS FEHLT!!!\n"
     ]
    }
   ],
   "source": [
    "######################\n",
    "print(\"Exercise 4)\")\n",
    "######################\n",
    "\n",
    "# Jaccard Similarity of two columns is 0\n",
    "\n",
    "from sklearn.metrics import jaccard_score\n",
    "\n",
    "S1 = [0,1,0,1,1]\n",
    "S2 = [1,0,1,0,0]\n",
    "\n",
    "S1S2 = jaccard_score(S1,S2)\n",
    "print (\"The similarity between S1 and S2 is:\",S1S2)\n",
    "\n",
    "\n",
    "print ('BEWEIS FEHLT!!!')"
   ]
  },
  {
   "cell_type": "markdown",
   "id": "55950b3c",
   "metadata": {},
   "source": [
    "## Exercise 5"
   ]
  },
  {
   "cell_type": "code",
   "execution_count": 12,
   "id": "e2552058",
   "metadata": {},
   "outputs": [
    {
     "name": "stdout",
     "output_type": "stream",
     "text": [
      "Exercise 5a)\n",
      "The similarity between S1 and S2 is: 0.2\n"
     ]
    }
   ],
   "source": [
    "######################\n",
    "print(\"Exercise 5a)\")\n",
    "######################\n",
    "\n",
    "from sklearn.metrics import jaccard_score\n",
    "\n",
    "S1 = [0,1,0,1,1]\n",
    "S2 = [1,0,1,1,0]\n",
    "\n",
    "S1S2 = jaccard_score(S1,S2)\n",
    "print (\"The similarity between S1 and S2 is:\",S1S2)"
   ]
  },
  {
   "cell_type": "code",
   "execution_count": 11,
   "id": "e43aaf87",
   "metadata": {},
   "outputs": [
    {
     "name": "stdout",
     "output_type": "stream",
     "text": [
      "Exercise 5a)\n",
      "B FEHLT!!!\n"
     ]
    }
   ],
   "source": [
    "######################\n",
    "print(\"Exercise 5a)\")\n",
    "######################\n",
    "\n",
    "\n",
    "print ('B FEHLT!!!')"
   ]
  },
  {
   "cell_type": "markdown",
   "id": "d33a22af",
   "metadata": {},
   "source": [
    "## Exercise 6"
   ]
  },
  {
   "cell_type": "markdown",
   "id": "279a32e2",
   "metadata": {},
   "source": [
    "### Two examples for hash functions as alternatives\n",
    "One alternative is the multiplication method by Cormed:\n",
    "     h(k) = floor(m * frac(k * c)), where c is a constant is the range of ]0,1[ and frac is a method returning the fractional part of k * c.\n",
    "\n",
    "Another alternative is the mid-squares method where the password is squared and then a fixed subset, for e.g. the middle 4 digits, of the result is the value of the hash function.\n",
    "\n",
    "\n",
    "### Explain the connection of hash functions to password security\n",
    "Hash functions are used to store passwords after processing them into a sequence that isn't equal to the original password. The main disadvantage of this approach is, that the processed password is the same among users that use the exact same password. Additionally, most common hash functions are indexed. Therefore, in case of a database breach the recreation of the original password is very easy.\n",
    "\n",
    "\n",
    "### What is a rainbow table? \n",
    "It is a table, that contains computed hashes for billions of common passwords. The main advantage is that the computation time for hashing the password reduces as they are already stored for the price of hard drive space. Computationally, it is easier to search in the database than to do a load of calculations. \n",
    "\n",
    "\n",
    "### What is salt in this context?\n",
    "Salt is a random string of characters that is different for every single user, like a new second password for the user. The main advantage of using a salt in addition to a hash function is that whenever multiple users use the same password, the stored password will always be different among them."
   ]
  },
  {
   "cell_type": "markdown",
   "id": "4078b017",
   "metadata": {},
   "source": [
    "## Exercise 7 - Bonus"
   ]
  }
 ],
 "metadata": {
  "kernelspec": {
   "display_name": "Python 3.8.10 64-bit",
   "language": "python",
   "name": "python3"
  },
  "language_info": {
   "codemirror_mode": {
    "name": "ipython",
    "version": 3
   },
   "file_extension": ".py",
   "mimetype": "text/x-python",
   "name": "python",
   "nbconvert_exporter": "python",
   "pygments_lexer": "ipython3",
   "version": "3.8.10"
  },
  "vscode": {
   "interpreter": {
    "hash": "916dbcbb3f70747c44a77c7bcd40155683ae19c65e1c03b4aa3499c5328201f1"
   }
  }
 },
 "nbformat": 4,
 "nbformat_minor": 5
}
