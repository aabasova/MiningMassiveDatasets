{
 "cells": [
  {
   "cell_type": "markdown",
   "id": "d72051a3",
   "metadata": {},
   "source": [
    "# Problem Set 6\n",
    "\n"
   ]
  },
  {
   "cell_type": "markdown",
   "id": "dbe4424f",
   "metadata": {},
   "source": [
    "Team: \n",
    "    Lea Schmierer 3546563;\n",
    "    Angelina Basova 3704658;\n",
    "    Daniel Knorr 3727033"
   ]
  },
  {
   "cell_type": "markdown",
   "id": "85055ee5",
   "metadata": {},
   "source": [
    "## Exercise 1\n"
   ]
  },
  {
   "cell_type": "markdown",
   "id": "c81b48ab",
   "metadata": {},
   "source": [
    "## Exercise 2"
   ]
  },
  {
   "cell_type": "markdown",
   "id": "2172ffa9",
   "metadata": {},
   "source": [
    "## Exercise 3"
   ]
  },
  {
   "cell_type": "markdown",
   "id": "5d8746ce",
   "metadata": {},
   "source": [
    "## Exercise 4"
   ]
  },
  {
   "cell_type": "markdown",
   "id": "55950b3c",
   "metadata": {},
   "source": [
    "## Exercise 5"
   ]
  },
  {
   "cell_type": "markdown",
   "id": "d33a22af",
   "metadata": {},
   "source": [
    "## Exercise 6"
   ]
  },
  {
   "cell_type": "markdown",
   "id": "279a32e2",
   "metadata": {},
   "source": [
    "### Two examples for hash functions as alternatives\n",
    "One alternative is the multiplication method by Cormed:\n",
    "     h(k) = floor(m * frac(k * c)), where c is a constant is the range of ]0,1[ and frac is a method returning the fractional part of k * c.\n",
    "\n",
    "Another alternative is the mid-squares method where the password is squared and then a fixed subset, for e.g. the middle 4 digits, of the result is the value of the hash function.\n",
    "\n",
    "\n",
    "### Explain the connection of hash functions to password security\n",
    "Hash functions are used to store passwords after processing them into a sequence that isn't equal to the original password. The main disadvantage of this approach is, that the processed password is the same among users that use the exact same password. Additionally, most common hash functions are indexed. Therefore, in case of a database breach the recreation of the original password is very easy.\n",
    "\n",
    "\n",
    "### What is a rainbow table? \n",
    "It is a table, that contains computed hashes for billions of common passwords. The main advantage is that the computation time for hashing the password reduces as they are already stored for the price of hard drive space. Computationally, it is easier to search in the database than to do a load of calculations. \n",
    "\n",
    "\n",
    "### What is salt in this context?\n",
    "Salt is a random string of characters that is different for every single user, like a new second password for the user. The main advantage of using a salt in addition to a hash function is that whenever multiple users use the same password, the stored password will always be different among them."
   ]
  },
  {
   "cell_type": "markdown",
   "id": "4078b017",
   "metadata": {},
   "source": [
    "## Exercise 7"
   ]
  }
 ],
 "metadata": {
  "kernelspec": {
   "display_name": "Python 3.9.0 64-bit",
   "language": "python",
   "name": "python3"
  },
  "language_info": {
   "codemirror_mode": {
    "name": "ipython",
    "version": 3
   },
   "file_extension": ".py",
   "mimetype": "text/x-python",
   "name": "python",
   "nbconvert_exporter": "python",
   "pygments_lexer": "ipython3",
   "version": "3.9.0"
  },
  "vscode": {
   "interpreter": {
    "hash": "949777d72b0d2535278d3dc13498b2535136f6dfe0678499012e853ee9abcab1"
   }
  }
 },
 "nbformat": 4,
 "nbformat_minor": 5
}
