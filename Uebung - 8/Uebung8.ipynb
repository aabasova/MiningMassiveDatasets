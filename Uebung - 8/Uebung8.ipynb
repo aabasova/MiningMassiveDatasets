{
 "cells": [
  {
   "attachments": {},
   "cell_type": "markdown",
   "id": "d72051a3",
   "metadata": {},
   "source": [
    "# Problem Set 8\n",
    "\n"
   ]
  },
  {
   "cell_type": "markdown",
   "id": "dbe4424f",
   "metadata": {},
   "source": [
    "Team: \n",
    "    Lea Schmierer 3546563;\n",
    "    Angelina Basova 3704658;\n",
    "    Daniel Knorr 3727033"
   ]
  },
  {
   "cell_type": "markdown",
   "id": "2b9b583c",
   "metadata": {},
   "source": [
    "## Exercise 1"
   ]
  },
  {
   "cell_type": "markdown",
   "id": "c81b48ab",
   "metadata": {},
   "source": [
    "## Exercise 2"
   ]
  },
  {
   "attachments": {},
   "cell_type": "markdown",
   "id": "a1005c6e",
   "metadata": {},
   "source": [
    "### a) If the support threshold is 5, which items are frequent?\n",
    "All items from 1-20 are frequent, because these all appear in at least 5 baskets."
   ]
  },
  {
   "attachments": {},
   "cell_type": "markdown",
   "id": "7210ac9c",
   "metadata": {},
   "source": [
    "### b) If the support threshold is 5, which pairs of items are frequent?\n",
    "\n",
    "Following pairs of items are frequent:\n",
    "\n",
    "{1,2}, {1,3}, {1,4}, {1,5}, {1,6}, {1,7}, {1,8}, {1,9}, {1,10}, {1,11}, {1,12}, {1,13}, {1,14}, {1,15}, {1,16}, {1,17}, {1,18}, {1,19}, {1,20}\n",
    "\n",
    "{2,4}, {2,6}, {2,8}, {2,10}, {2,12}, {2,14}, {2,16}, {2,18}, {2,20}\n",
    "\n",
    "{3,6}, {3,9}, {3,12}, {3,15}, {3,18}\n",
    "\n",
    "{4,8}, {4,12}, {4,16}, {4,20}\n",
    "\n",
    "{5,10}, {5,15}, {5,20}\n",
    "\n",
    "{6,12}\n",
    "\n",
    "{7,14}\n",
    "\n",
    "{8,16}\n",
    "\n",
    "{9,18}\n",
    "\n",
    "{10,20}\n",
    "\n",
    "EXPLAIN!!"
   ]
  },
  {
   "attachments": {},
   "cell_type": "markdown",
   "id": "cab90e22",
   "metadata": {},
   "source": [
    "### c) What is the sum of the sizes of all the baskets?"
   ]
  },
  {
   "attachments": {},
   "cell_type": "markdown",
   "id": "7620b9fd",
   "metadata": {},
   "source": [
    "### d) What is the confidence of the following association rules R1 = {5,7} -> 2 and R2= {2,3,4} -> 5"
   ]
  },
  {
   "attachments": {},
   "cell_type": "markdown",
   "id": "8267191e",
   "metadata": {},
   "source": [
    "R1:\n",
    "\n",
    "    confidence =support(i, j) / support(j)  =  support(i, j) / support({5,7}) =  1  / 2\n",
    "\n",
    "\n",
    "R2:\n",
    "\n",
    "    confidence =support(i, j) / support(j)  =  support(i, j) / support({2,3,4})  = 1 / 8"
   ]
  },
  {
   "cell_type": "markdown",
   "id": "2172ffa9",
   "metadata": {},
   "source": [
    "## Exercise 3"
   ]
  },
  {
   "cell_type": "markdown",
   "id": "5d8746ce",
   "metadata": {},
   "source": [
    "## Exercise 4"
   ]
  },
  {
   "attachments": {},
   "cell_type": "markdown",
   "id": "87e17aaf",
   "metadata": {},
   "source": [
    "## Exercise 5"
   ]
  }
 ],
 "metadata": {
  "kernelspec": {
   "display_name": "Python 3",
   "language": "python",
   "name": "python3"
  },
  "language_info": {
   "codemirror_mode": {
    "name": "ipython",
    "version": 3
   },
   "file_extension": ".py",
   "mimetype": "text/x-python",
   "name": "python",
   "nbconvert_exporter": "python",
   "pygments_lexer": "ipython3",
   "version": "3.9.0 (v3.9.0:9cf6752276, Oct  5 2020, 11:29:23) \n[Clang 6.0 (clang-600.0.57)]"
  },
  "vscode": {
   "interpreter": {
    "hash": "949777d72b0d2535278d3dc13498b2535136f6dfe0678499012e853ee9abcab1"
   }
  }
 },
 "nbformat": 4,
 "nbformat_minor": 5
}
