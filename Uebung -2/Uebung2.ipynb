{
 "cells": [
  {
   "cell_type": "markdown",
   "id": "d72051a3",
   "metadata": {},
   "source": [
    "# Problem Set 2\n"
   ]
  },
  {
   "cell_type": "code",
   "execution_count": 13,
   "id": "e2fd29ca",
   "metadata": {},
   "outputs": [],
   "source": [
    "from numpy import dot\n",
    "from numpy.linalg import norm\n",
    "import statistics\n",
    "\n",
    "from scipy.spatial import distance"
   ]
  },
  {
   "cell_type": "markdown",
   "id": "85055ee5",
   "metadata": {},
   "source": [
    "## Exercise 1\n"
   ]
  },
  {
   "cell_type": "code",
   "execution_count": 14,
   "id": "72882091",
   "metadata": {},
   "outputs": [
    {
     "name": "stdout",
     "output_type": "stream",
     "text": [
      "Angle between A and B: 0.9999973332836593\n",
      "Angle between A and C: 0.9999953431214217\n",
      "Angle between B and C: 0.9999878533753953\n"
     ]
    }
   ],
   "source": [
    "#a\n",
    "A = [3.06, 500, 6]\n",
    "B = [2.68, 320, 4]\n",
    "C = [2.92, 640, 6]\n",
    "\n",
    "cos_simAB = dot(A, B)/(norm(A)*norm(B))\n",
    "print (\"Angle between A and B:\",cos_simAB)\n",
    "\n",
    "cos_simAC = dot(A, C)/(norm(A)*norm(C))\n",
    "print (\"Angle between A and C:\",cos_simAC)\n",
    "\n",
    "cos_simBC = dot(B, C)/(norm(B)*norm(C))\n",
    "print (\"Angle between B and C:\",cos_simBC)\n",
    "\n"
   ]
  },
  {
   "cell_type": "code",
   "execution_count": 15,
   "id": "c53c8192",
   "metadata": {},
   "outputs": [
    {
     "name": "stdout",
     "output_type": "stream",
     "text": [
      "Angle between A and B: 0.9908815005407525\n",
      "Angle between A and C: 0.9915547143332561\n",
      "Angle between B and C: 0.9691779219936828\n"
     ]
    }
   ],
   "source": [
    "#b\n",
    "A = [3.06*1, 500*0.01, 6*0.5]\n",
    "B = [2.68*1, 320*0.01, 4*0.5]\n",
    "C = [2.92*1, 640*0.01, 6*0.5]\n",
    "\n",
    "cos_simAB = dot(A, B)/(norm(A)*norm(B))\n",
    "print (\"Angle between A and B:\",cos_simAB)\n",
    "\n",
    "cos_simAC = dot(A, C)/(norm(A)*norm(C))\n",
    "print (\"Angle between A and C:\",cos_simAC)\n",
    "\n",
    "cos_simBC = dot(B, C)/(norm(B)*norm(C))\n",
    "print (\"Angle between B and C:\",cos_simBC)"
   ]
  },
  {
   "cell_type": "code",
   "execution_count": 16,
   "id": "e6ee4e14",
   "metadata": {},
   "outputs": [
    {
     "name": "stdout",
     "output_type": "stream",
     "text": [
      "Alpha: 0.002054794520547945\n",
      "Beta: 0.1875\n",
      "Angle between A and B: 0.9943904039541531\n",
      "Angle between A and C: 0.995613999453596\n",
      "Angle between B and C: 0.9822469184045495\n"
     ]
    }
   ],
   "source": [
    "#c\n",
    "disk = [500, 320, 640]\n",
    "memory = [6, 4, 6]\n",
    "\n",
    "alpha = 1/statistics.mean(disk)\n",
    "print(\"Alpha:\", alpha)\n",
    "\n",
    "beta = 1/statistics.mean(memory)\n",
    "print(\"Beta:\", beta)\n",
    "\n",
    "A = [3.06, 500*alpha, 6*beta]\n",
    "B = [2.68, 320*alpha, 4*beta]\n",
    "C = [2.92, 640*alpha, 6*beta]\n",
    "\n",
    "\n",
    "cos_simAB = dot(A, B)/(norm(A)*norm(B))\n",
    "print (\"Angle between A and B:\",cos_simAB)\n",
    "\n",
    "cos_simAC = dot(A, C)/(norm(A)*norm(C))\n",
    "print (\"Angle between A and C:\",cos_simAC)\n",
    "\n",
    "cos_simBC = dot(B, C)/(norm(B)*norm(C))\n",
    "print (\"Angle between B and C:\",cos_simBC)"
   ]
  },
  {
   "cell_type": "markdown",
   "id": "c81b48ab",
   "metadata": {},
   "source": [
    "## Exercise 2"
   ]
  },
  {
   "cell_type": "markdown",
   "id": "2ca87f91",
   "metadata": {},
   "source": [
    "### How can a competitor - in principle - try to steal the valuable data for recommendation from this website? \n",
    "\n",
    "The competitor could use web crawlers, where each creates a new user profile. After randomly liking a product the crawler can extract the recommended items including item name, description, pictures and overall rating in case it is shown in the website.\n",
    "\n",
    "### Does this work better when the web shop implemented a content- based or a collaborative filtering system?\n",
    "\n",
    "The approach possibly works better in content-based systems because the system searches for items similar to the ones the user like. Products in furniture shops are structured by category either by product type such as bed or by room such as living room. In the first case, when a crawler likes a bed, the system returns similar beds. In the other case it will return products usually bought in living rooms such as coffee tables. Since the product categories are visible in the website, less data will be needed. TODO   \n",
    "\n",
    "### What data would the competitor be able to infer? \n",
    "\n",
    "Data such as product name, description, pictures and overall rating in case it is shown in the website.\n",
    "\n",
    "### Would this technique have an impact on the recommendation system, i.e., would this attack create a bias on the data? \n",
    "\n",
    "Yes the attack could create a bias in a random direction. Since getting a recommendation requires the user to like a product, the crawlers will like a random product. Based on the amount of random likes for a specific product or product group, the recommendation algorithm will consider the fake likes from the crawler for future recommendations.\n",
    "\n",
    "### Why is this attack probably not viable in any case?\n",
    "\n",
    "The competitor needs a big amount of data to integrate into his own recommendation system in order to get a satisfactory performance. To get this big amount of data, multiple crawlers will need to use the website, create user accounts and like products, hence creating a big bust in engagement. Most modern systems identify such engagement peaks as a form of crawler and block them.\n",
    "    \n"
   ]
  },
  {
   "cell_type": "markdown",
   "id": "2172ffa9",
   "metadata": {},
   "source": [
    "## Exercise 3"
   ]
  },
  {
   "cell_type": "code",
   "execution_count": 18,
   "id": "18d7b027",
   "metadata": {},
   "outputs": [
    {
     "name": "stdout",
     "output_type": "stream",
     "text": [
      "The disance between A and B is: 0.5\n",
      "The disance between A and C is: 0.5\n",
      "The disance between B and C is: 0.5\n"
     ]
    }
   ],
   "source": [
    "#a) Jaccard distance\n",
    "A = [True,True,False,True,True,False,True,True]\n",
    "B = [False,True,True,True,True,True,True,False]\n",
    "C = [True,False,True,True,False,True,True,True]\n",
    "\n",
    "distanceAB = distance.jaccard(A,B)\n",
    "print (\"The disance between A and B is:\",distanceAB)\n",
    "\n",
    "distanceAC = distance.jaccard(A,C)\n",
    "print (\"The disance between A and C is:\",distanceAC)\n",
    "\n",
    "distanceBC = distance.jaccard(B,C)\n",
    "print (\"The disance between B and C is:\",distanceBC)\n"
   ]
  },
  {
   "cell_type": "code",
   "execution_count": null,
   "id": "08463462",
   "metadata": {},
   "outputs": [],
   "source": [
    "#b) Cosine distance"
   ]
  },
  {
   "cell_type": "code",
   "execution_count": null,
   "id": "5a66d589",
   "metadata": {},
   "outputs": [],
   "source": [
    "#c) Jaccard distance"
   ]
  },
  {
   "cell_type": "code",
   "execution_count": null,
   "id": "58b1f856",
   "metadata": {},
   "outputs": [],
   "source": [
    "#d) Cosine distance "
   ]
  },
  {
   "cell_type": "code",
   "execution_count": null,
   "id": "5a2ed6bb",
   "metadata": {},
   "outputs": [],
   "source": [
    "#e) "
   ]
  },
  {
   "cell_type": "code",
   "execution_count": null,
   "id": "418a9e01",
   "metadata": {},
   "outputs": [],
   "source": [
    "#f) Cosine distance"
   ]
  },
  {
   "cell_type": "markdown",
   "id": "5d8746ce",
   "metadata": {},
   "source": [
    "## Exercise 4"
   ]
  },
  {
   "cell_type": "markdown",
   "id": "9f507ce0",
   "metadata": {},
   "source": [
    "### a) \n",
    "A website where students can rate their professors. Users are students that can share their experiences of lectures, seminars and exams. If a rating is given for a so far unknown professor, there will be created a fresh profile for this professor.\n",
    "\n",
    "Data for utility matrix:\n",
    "\n",
    "What are users: Students\n",
    "\n",
    "What are items: Professor\n",
    "\n",
    "What relations are exploited: Number of students rating a professor, years of experience of a professor, number of lectures and seminars lecturer is teaching\n",
    "\n",
    "### b)\n",
    "An online community for sharing artwork. Each user can upload pictures of his or her artwork, and also rate those of others.\n",
    "\n",
    "Data for utility matrix:         \n",
    "\n",
    "What are users: Artists\n",
    "\n",
    "What are items: Pictures\n",
    "\n",
    "What relations are exploited: number of artists visiting an uploaded picture, number of artists viewing artwork of a specific artist\n",
    "\n",
    "### c)\n",
    "A dating platform. Every user has an online profile and can visit and like those of others. Users can describe a hidden prole of their dream partner. Users can send messages to users and block users. What is special about this scenario?\n",
    "\n",
    "Data for utility matrix:        \n",
    "\n",
    "What are users: people looking for a date\n",
    "\n",
    "What are items: dream partner, people looking for a date\n",
    "\n",
    "What relations are exploited: number of people visiting a specific profile, the ratio of match between profile and dream partner (e.g. 70%)\n",
    "\n",
    "What is special: there are existing items (a user of the dating platform) and non-existing items (dream partner)\n"
   ]
  },
  {
   "cell_type": "markdown",
   "id": "0d61a41e",
   "metadata": {},
   "source": [
    "## Exercise 5"
   ]
  }
 ],
 "metadata": {
  "kernelspec": {
   "display_name": "Python 3 (ipykernel)",
   "language": "python",
   "name": "python3"
  },
  "language_info": {
   "codemirror_mode": {
    "name": "ipython",
    "version": 3
   },
   "file_extension": ".py",
   "mimetype": "text/x-python",
   "name": "python",
   "nbconvert_exporter": "python",
   "pygments_lexer": "ipython3",
   "version": "3.8.10"
  },
  "vscode": {
   "interpreter": {
    "hash": "916dbcbb3f70747c44a77c7bcd40155683ae19c65e1c03b4aa3499c5328201f1"
   }
  }
 },
 "nbformat": 4,
 "nbformat_minor": 5
}
