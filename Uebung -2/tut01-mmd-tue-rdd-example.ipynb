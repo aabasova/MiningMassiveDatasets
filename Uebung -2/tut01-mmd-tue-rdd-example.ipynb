{
 "cells": [
  {
   "cell_type": "markdown",
   "id": "d72051a3",
   "metadata": {},
   "source": [
    "This is a simple example of using PySpark. \n",
    "\n",
    "Note: Do not use this code directly for any exercise. It is only meant to show you some basics of using RDDs."
   ]
  },
  {
   "cell_type": "code",
   "execution_count": 1,
   "id": "6e03ca87",
   "metadata": {
    "scrolled": false
   },
   "outputs": [],
   "source": [
    "from pyspark.context import SparkContext\n",
    "import numpy as np\n",
    "import matplotlib.pyplot as plt\n",
    "from IPython.display import clear_output"
   ]
  },
  {
   "cell_type": "code",
   "execution_count": 2,
   "id": "cce9997d",
   "metadata": {},
   "outputs": [],
   "source": [
    "sc = SparkContext()\n",
    "clear_output()"
   ]
  },
  {
   "cell_type": "markdown",
   "id": "67316085",
   "metadata": {},
   "source": [
    "Generates sample data."
   ]
  },
  {
   "cell_type": "code",
   "execution_count": 3,
   "id": "205fefd0",
   "metadata": {},
   "outputs": [
    {
     "name": "stdout",
     "output_type": "stream",
     "text": [
      "[4 3 1 3 4 6 5 6 3 4 4 2 0 4 7 5 5 4 3 3 5 5 3 4 2 3 5 3 5 4 2 7 3 5 4 4 5\n",
      " 6 4 4 5 1 6 3 6 1 5 7 5 2 3 3 2 2 2 5 5 3 4 4 5 3 5 4 5 6 5 5 4 3 5 1 3 3\n",
      " 5 2 5 2 4 3 2 5 7 1 6 6 4 3 4 2 4 4 5 6 3 4 6 3 5 4 5 5 5 9 4 3 3 3 3 4 1\n",
      " 3 5 3 5 3 7 5 2 4 3 2 7 5 6 3 6 3 4 4 3 2 4 3 4 5 3 5 3 6 3 8 4 3 6 5 4 6\n",
      " 4 4 4 3 1 6 5 6 5 5 4 4 5 6 2 3 3 2 6 3 1 6 2 3 1 7 1 3 4 1 3 5 5 4 7 6 2\n",
      " 0 4 3 3 3 7 4 6 4 5 1 7 4 3 4 4 4 5 3 5 4 6 3 2 6 6 2 1 5 4 7 5 8 5 4 3 2\n",
      " 3 3 6 3 1 4 3 1 6 4 3 5 4 5 3 5 4 7 3 4 6 5 4 5 6 6 4 4]\n"
     ]
    }
   ],
   "source": [
    "sample_data = np.random.binomial(10, 0.4, 1000)\n",
    "print(sample_data[:250])"
   ]
  },
  {
   "cell_type": "code",
   "execution_count": 4,
   "id": "c37687d3",
   "metadata": {},
   "outputs": [],
   "source": [
    "rdd = sc.parallelize(sample_data)"
   ]
  },
  {
   "cell_type": "markdown",
   "id": "cba1deba",
   "metadata": {},
   "source": [
    "Determines the maximum number in the data (Using lambda expression)."
   ]
  },
  {
   "cell_type": "code",
   "execution_count": 5,
   "id": "84b5cdbd",
   "metadata": {},
   "outputs": [
    {
     "name": "stderr",
     "output_type": "stream",
     "text": [
      "\r",
      "[Stage 0:>                                                        (0 + 12) / 12]\r"
     ]
    },
    {
     "name": "stdout",
     "output_type": "stream",
     "text": [
      "The maximum number is: 9\n",
      "The maximum number is (using numpy): 9\n"
     ]
    },
    {
     "name": "stderr",
     "output_type": "stream",
     "text": [
      "\r",
      "                                                                                \r"
     ]
    }
   ],
   "source": [
    "max_number = rdd.reduce(lambda x, y: max(x, y))\n",
    "print(f\"The maximum number is: {max_number}\")\n",
    "print(f\"The maximum number is (using numpy): {np.max(sample_data)}\")"
   ]
  },
  {
   "cell_type": "markdown",
   "id": "576a1ea2",
   "metadata": {},
   "source": [
    "Determines the maximum number in the data (Using a custom function)."
   ]
  },
  {
   "cell_type": "code",
   "execution_count": 6,
   "id": "5ced5d9a",
   "metadata": {},
   "outputs": [],
   "source": [
    "def get_highest_int(number1: int, number2: int) -> int:\n",
    "    if number1 >= number2:\n",
    "        return number1\n",
    "    return number2"
   ]
  },
  {
   "cell_type": "code",
   "execution_count": 7,
   "id": "49b4a8f5",
   "metadata": {},
   "outputs": [
    {
     "name": "stdout",
     "output_type": "stream",
     "text": [
      "The maximum number is: 9\n"
     ]
    }
   ],
   "source": [
    "max_number2 = rdd.reduce(get_highest_int)\n",
    "print(f\"The maximum number is: {max_number2}\")"
   ]
  },
  {
   "cell_type": "markdown",
   "id": "2a7b5d20",
   "metadata": {},
   "source": [
    "Determines the count of each element in the data."
   ]
  },
  {
   "cell_type": "code",
   "execution_count": 8,
   "id": "caa540e6",
   "metadata": {},
   "outputs": [
    {
     "name": "stdout",
     "output_type": "stream",
     "text": [
      "[(4, 1), (3, 1), (1, 1), (3, 1), (4, 1), (6, 1), (5, 1), (6, 1), (3, 1), (4, 1), (4, 1), (2, 1), (0, 1), (4, 1), (7, 1), (5, 1), (5, 1), (4, 1), (3, 1), (3, 1)]\n"
     ]
    }
   ],
   "source": [
    "numbers_as_key_value_pairs = rdd.map(lambda x: (x, 1))   \n",
    "print(numbers_as_key_value_pairs.collect()[:20])"
   ]
  },
  {
   "cell_type": "code",
   "execution_count": 9,
   "id": "c8bb86e4",
   "metadata": {},
   "outputs": [
    {
     "name": "stdout",
     "output_type": "stream",
     "text": [
      "[(0, 7), (1, 42), (2, 117), (3, 201), (4, 236), (5, 215), (6, 126), (7, 46), (8, 8), (9, 2)]\n"
     ]
    }
   ],
   "source": [
    "count_by_numbers = numbers_as_key_value_pairs.reduceByKey(lambda x, y: x + y)\n",
    "print(count_by_numbers.collect())"
   ]
  },
  {
   "cell_type": "code",
   "execution_count": 10,
   "id": "c56fbb3a",
   "metadata": {},
   "outputs": [
    {
     "name": "stdout",
     "output_type": "stream",
     "text": [
      "[(0, 7), (1, 42), (2, 117), (3, 201), (4, 236), (5, 215), (6, 126), (7, 46), (8, 8), (9, 2)]\n"
     ]
    }
   ],
   "source": [
    "count_by_numbers_sorted = count_by_numbers.sortByKey() \n",
    "count_by_numbers_collection = count_by_numbers_sorted.collect()\n",
    "print(count_by_numbers_collection)"
   ]
  },
  {
   "cell_type": "code",
   "execution_count": 11,
   "id": "e2600745",
   "metadata": {},
   "outputs": [
    {
     "data": {
      "image/png": "[encoded data removed]",
      "text/plain": [
       "<Figure size 432x288 with 1 Axes>"
      ]
     },
     "metadata": {
      "needs_background": "light"
     },
     "output_type": "display_data"
    }
   ],
   "source": [
    "count_by_numbers_array = np.array(count_by_numbers_collection)\n",
    "numbers = count_by_numbers_array[:, 0]\n",
    "counts = count_by_numbers_array[:, 1]\n",
    "plt.bar(numbers, counts)\n",
    "plt.show()"
   ]
  },
  {
   "cell_type": "code",
   "execution_count": 12,
   "id": "697dd2aa",
   "metadata": {},
   "outputs": [],
   "source": [
    "sc.stop()"
   ]
  }
 ],
 "metadata": {
  "kernelspec": {
   "display_name": "Python 3 (ipykernel)",
   "language": "python",
   "name": "python3"
  },
  "language_info": {
   "codemirror_mode": {
    "name": "ipython",
    "version": 3
   },
   "file_extension": ".py",
   "mimetype": "text/x-python",
   "name": "python",
   "nbconvert_exporter": "python",
   "pygments_lexer": "ipython3",
   "version": "3.9.12"
  }
 },
 "nbformat": 4,
 "nbformat_minor": 5
}
