{
 "cells": [
  {
   "cell_type": "markdown",
   "id": "d72051a3",
   "metadata": {},
   "source": [
    "# Problem Set 3\n",
    "\n"
   ]
  },
  {
   "cell_type": "markdown",
   "id": "dbe4424f",
   "metadata": {},
   "source": [
    "Team: \n",
    "    Lea Schmierer 3546563;\n",
    "    Angelina Basova 3704658;\n",
    "    Daniel Knorr 3727033"
   ]
  },
  {
   "cell_type": "code",
   "execution_count": 2,
   "id": "de4f28f7",
   "metadata": {},
   "outputs": [],
   "source": [
    "import numpy"
   ]
  },
  {
   "cell_type": "markdown",
   "id": "85055ee5",
   "metadata": {},
   "source": [
    "## Exercise 1\n"
   ]
  },
  {
   "cell_type": "markdown",
   "id": "c81b48ab",
   "metadata": {},
   "source": [
    "## Exercise 2"
   ]
  },
  {
   "cell_type": "markdown",
   "id": "2172ffa9",
   "metadata": {},
   "source": [
    "## Exercise 3"
   ]
  },
  {
   "cell_type": "markdown",
   "id": "5d8746ce",
   "metadata": {},
   "source": [
    "## Exercise 4"
   ]
  },
  {
   "cell_type": "code",
   "execution_count": 3,
   "id": "aacf174f",
   "metadata": {},
   "outputs": [
    {
     "name": "stdout",
     "output_type": "stream",
     "text": [
      "The matrix R:\n",
      "[[5 3 0 1]\n",
      " [4 0 0 1]\n",
      " [1 1 0 5]\n",
      " [1 0 0 4]\n",
      " [0 1 5 4]]\n",
      "The final matrix Q:\n",
      "[[-0.09368096  2.07509279]\n",
      " [-0.05694399  1.09993708]\n",
      " [ 0.83908027  2.50941104]\n",
      " [ 2.52964732  0.63046582]]\n",
      "The final matrix P:\n",
      "[[-0.21168374  2.4361712 ]\n",
      " [-0.07055653  1.87955044]\n",
      " [ 1.80838801  0.63035888]\n",
      " [ 1.44647487  0.51582335]\n",
      " [ 1.20555742  1.51904373]]\n"
     ]
    }
   ],
   "source": [
    "#a)\n",
    "def matrix_factorization(R, P, Q, K, steps=5000, alpha=0.0002, beta=0.02):\n",
    "    Q = Q.T\n",
    "    for step in range(steps):\n",
    "        for i in range(len(R)):\n",
    "            for j in range(len(R[i])):\n",
    "                if R[i][j] > 0:\n",
    "                    eij = R[i][j] - numpy.dot(P[i,:],Q[:,j])\n",
    "                    for k in range(K):\n",
    "                        P[i][k] = P[i][k] + alpha * (2 * eij * Q[k][j] - beta * P[i][k])\n",
    "                        Q[k][j] = Q[k][j] + alpha * (2 * eij * P[i][k] - beta * Q[k][j])\n",
    "        eR = numpy.dot(P,Q)\n",
    "        e = 0\n",
    "        for i in range(len(R)):\n",
    "            for j in range(len(R[i])):\n",
    "                if R[i][j] > 0:\n",
    "                    e = e + pow(R[i][j] - numpy.dot(P[i,:],Q[:,j]), 2)\n",
    "                    for k in range(K):\n",
    "                        e = e + (beta/2) * ( pow(P[i][k],2) + pow(Q[k][j],2) )\n",
    "        if e < 0.001:\n",
    "            break\n",
    "    return P, Q.T\n",
    "\n",
    "\n",
    "R = [\n",
    "\t\t\n",
    "         [5,3,0,1],\n",
    "         [4,0,0,1],\n",
    "         [1,1,0,5],\n",
    "         [1,0,0,4],\n",
    "         [0,1,5,4],\n",
    "        \n",
    "\t\t#[1,0,2,0,0,1],\n",
    "\t\t#[0,0,4,2,0,0],\n",
    "\t\t#[3,5,0,4,4,3],\n",
    "\t\t#[0,4,1,0,3,0],\n",
    "\t\t#[0,0,2,5,4,3],\n",
    "\t\t#[5,0,0,0,2,0],\n",
    "\t\t#[0,4,3,0,0,0],\n",
    "\t\t#[0,0,0,4,0,2],\n",
    "\t\t#[5,0,4,0,0,0],\n",
    "\t\t#[0,2,3,0,0,0],\n",
    "\t\t#[4,1,5,2,2,4],\n",
    "\t\t#[0,3,0,0,5,0],\n",
    "\t\t#[1,0,3,0,0,5,0,0,5,0,4,0],\n",
    "\t\t#[0,0,5,4,0,0,4,0,0,2,1,3],\n",
    "\t\t#[2,4,0,1,2,0,3,0,4,3,5,0],\n",
    "\t\t#[0,2,4,0,5,0,0,4,0,0,2,0],\n",
    "\t\t#[0,0,4,3,4,2,0,0,0,0,2,5],\n",
    "\t\t#[1,0,3,0,3,0,0,2,0,0,4,0],\n",
    "\t]\n",
    "\n",
    "R = numpy.array(R)\n",
    "\n",
    "N = len(R)\n",
    "M = len(R[0])\n",
    "K = 2\n",
    "\n",
    "P = numpy.random.rand(N,K)\n",
    "Q = numpy.random.rand(M,K)\n",
    "nP, nQ = matrix_factorization(R, P, Q, K)\n",
    "\n",
    "\n",
    "print ('The matrix R:')\n",
    "print(R)\n",
    "print('The final matrix Q:')\n",
    "print (nQ)\n",
    "print ('The final matrix P:')\n",
    "print (nP)"
   ]
  },
  {
   "cell_type": "code",
   "execution_count": 2,
   "id": "8738e192",
   "metadata": {},
   "outputs": [],
   "source": [
    "#b)"
   ]
  },
  {
   "cell_type": "code",
   "execution_count": 3,
   "id": "2c6428b4",
   "metadata": {},
   "outputs": [],
   "source": [
    "#c) BONUS"
   ]
  },
  {
   "cell_type": "markdown",
   "id": "0d61a41e",
   "metadata": {},
   "source": [
    "## Exercise 5"
   ]
  },
  {
   "cell_type": "markdown",
   "id": "4f166720",
   "metadata": {},
   "source": [
    "## Exercise 6 Bonus"
   ]
  }
 ],
 "metadata": {
  "kernelspec": {
   "display_name": "Python 3 (ipykernel)",
   "language": "python",
   "name": "python3"
  },
  "language_info": {
   "codemirror_mode": {
    "name": "ipython",
    "version": 3
   },
   "file_extension": ".py",
   "mimetype": "text/x-python",
   "name": "python",
   "nbconvert_exporter": "python",
   "pygments_lexer": "ipython3",
   "version": "3.8.10"
  },
  "vscode": {
   "interpreter": {
    "hash": "916dbcbb3f70747c44a77c7bcd40155683ae19c65e1c03b4aa3499c5328201f1"
   }
  }
 },
 "nbformat": 4,
 "nbformat_minor": 5
}
