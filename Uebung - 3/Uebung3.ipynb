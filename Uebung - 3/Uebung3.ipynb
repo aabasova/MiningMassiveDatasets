{
 "cells": [
  {
   "cell_type": "markdown",
   "id": "d72051a3",
   "metadata": {},
   "source": [
    "# Problem Set 3\n",
    "\n"
   ]
  },
  {
   "cell_type": "markdown",
   "id": "dbe4424f",
   "metadata": {},
   "source": [
    "Team: \n",
    "    Lea Schmierer 3546563;\n",
    "    Angelina Basova 3704658;\n",
    "    Daniel Knorr 3727033"
   ]
  },
  {
   "cell_type": "markdown",
   "id": "85055ee5",
   "metadata": {},
   "source": [
    "## Exercise 1\n"
   ]
  },
  {
   "cell_type": "markdown",
   "id": "c81b48ab",
   "metadata": {},
   "source": [
    "## Exercise 2"
   ]
  },
  {
   "cell_type": "markdown",
   "id": "2172ffa9",
   "metadata": {},
   "source": [
    "## Exercise 3"
   ]
  },
  {
   "cell_type": "markdown",
   "id": "5d8746ce",
   "metadata": {},
   "source": [
    "## Exercise 4"
   ]
  },
  {
   "cell_type": "code",
   "execution_count": 50,
   "id": "aacf174f",
   "metadata": {},
   "outputs": [
    {
     "name": "stdout",
     "output_type": "stream",
     "text": [
      "R\n",
      "[[1 0 2 0 0 1]\n",
      " [0 0 4 2 0 0]\n",
      " [3 5 0 4 4 3]\n",
      " [0 4 1 0 3 0]\n",
      " [0 0 2 5 4 3]\n",
      " [5 0 0 0 2 0]\n",
      " [0 4 3 0 0 0]\n",
      " [0 0 0 4 0 2]\n",
      " [5 0 4 0 0 0]\n",
      " [0 2 3 0 0 0]\n",
      " [4 2 5 2 2 4]\n",
      " [0 3 0 0 5 0]]\n",
      "P\n",
      "[[0.44465943 1.50779204 0.6061574  0.06917856 0.42806438 2.11583779\n",
      "  0.89069682 0.30309164 1.55263095 1.06395122 1.74360231 2.41346891]\n",
      " [0.4604067  0.5017197  1.86876666 1.6392827  2.12269132 0.04683857\n",
      "  1.55809612 1.69417719 1.13950349 0.70931503 0.46338354 1.16915103]]\n",
      "Q\n",
      "[[2.28483506 0.24378029 2.5023561  0.58765869 0.97258029 1.95956313]\n",
      " [0.87493703 2.43393196 0.47854722 2.14451983 1.79168065 0.93845185]]\n",
      "gesamt\n",
      "[[1.41880032 1.2289978  1.33302257 1.24865929 1.25736878 1.30340774]\n",
      " [3.88402927 1.58872159 4.01312918 1.96201494 2.3653703  3.42545348]\n",
      " [3.02002283 4.69622012 2.41111475 4.36382083 3.93776979 2.94155122]\n",
      " [1.59233073 4.00676693 0.95758356 3.55612765 3.00435279 1.67394763]\n",
      " [2.83527775 5.27083991 2.08697754 4.8037094  4.21951194 2.83086277]\n",
      " [4.87532116 0.62980142 5.31699407 1.34383669 2.14174189 4.19007348]\n",
      " [3.39833131 4.00943428 2.97446317 3.86479376 3.65788484 3.20757483]\n",
      " [2.17481277 4.19739978 1.569187   3.81131103 3.33020544 2.18383092]\n",
      " [4.54449943 3.15197477 4.43054176 3.3561049  3.55168461 4.11184753]\n",
      " [3.05155904 1.98579484 3.00182556 2.14638032 2.30564399 2.75053759]\n",
      " [4.3892751  1.55289989 4.58486477 2.01837825 2.52602857 3.85156195]\n",
      " [6.5373119  3.43399021 6.59885261 3.92556355 4.44203758 5.82653664]]\n"
     ]
    }
   ],
   "source": [
    "try:\n",
    "    import numpy\n",
    "except:\n",
    "    print(\"This implementation requires the numpy module.\")\n",
    "    exit(0)\n",
    "\n",
    "###############################################################################\n",
    "\n",
    "\"\"\"\n",
    "@INPUT:\n",
    "    R     : a matrix to be factorized, dimension N x M\n",
    "    P     : an initial matrix of dimension N x K\n",
    "    Q     : an initial matrix of dimension M x K\n",
    "    K     : the number of latent features\n",
    "    steps : the maximum number of steps to perform the optimisation\n",
    "    alpha : the learning rate\n",
    "    beta  : the regularization parameter\n",
    "@OUTPUT:\n",
    "    the final matrices P and Q\n",
    "\"\"\"\n",
    "def matrix_factorization(R, P, Q, K, steps=5000, alpha=0.0002, beta=0.02):\n",
    "    Q = Q.T\n",
    "    for step in range(steps):\n",
    "        for i in range(len(R)):\n",
    "            for j in range(len(R[i])):\n",
    "                if R[i][j] > 0:\n",
    "                    eij = R[i][j] - numpy.dot(P[i,:],Q[:,j])\n",
    "                    for k in range(K):\n",
    "                        P[i][k] = P[i][k] + alpha * (2 * eij * Q[k][j] - beta * P[i][k])\n",
    "                        Q[k][j] = Q[k][j] + alpha * (2 * eij * P[i][k] - beta * Q[k][j])\n",
    "        eR = numpy.dot(P,Q)\n",
    "        e = 0\n",
    "        for i in range(len(R)):\n",
    "            for j in range(len(R[i])):\n",
    "                if R[i][j] > 0:\n",
    "                    e = e + pow(R[i][j] - numpy.dot(P[i,:],Q[:,j]), 2)\n",
    "                    for k in range(K):\n",
    "                        e = e + (beta/2) * ( pow(P[i][k],2) + pow(Q[k][j],2) )\n",
    "        if e < 0.001:\n",
    "            break\n",
    "    return P, Q.T\n",
    "\n",
    "###############################################################################\n",
    "\n",
    "if __name__ == \"__main__\":\n",
    "    R = [\n",
    "         #[5,3,0,1],\n",
    "         #[4,0,0,1],\n",
    "         #[1,1,0,5],\n",
    "         #[1,0,0,4],\n",
    "         #[0,1,5,4],\n",
    "         [1,0,2,0,0,1],\n",
    "         [0,0,4,2,0,0],\n",
    "         [3,5,0,4,4,3],\n",
    "         [0,4,1,0,3,0],\n",
    "         [0,0,2,5,4,3],\n",
    "         [5,0,0,0,2,0],\n",
    "         [0,4,3,0,0,0],\n",
    "         [0,0,0,4,0,2],\n",
    "         [5,0,4,0,0,0],\n",
    "         [0,2,3,0,0,0],\n",
    "         [4,2,5,2,2,4],\n",
    "         [0,3,0,0,5,0,],\n",
    "        ]\n",
    "\n",
    "    R = numpy.array(R)\n",
    "\n",
    "    N = len(R)\n",
    "    M = len(R[0])\n",
    "    K = 2\n",
    "\n",
    "    P = numpy.random.rand(N,K)\n",
    "    Q = numpy.random.rand(M,K)\n",
    "\n",
    "    nP, nQ = matrix_factorization(R, P, Q, K)\n",
    "    nR= numpy.dot(nP, nQ.T)\n",
    "\n",
    "\n",
    "    print('R')\n",
    "    print(R)\n",
    "\n",
    "    print('P')\n",
    "    print(nP)\n",
    "\n",
    "    print('Q')\n",
    "    print(nQ.T)\n",
    "\n",
    "\n",
    "    print('gesamt')\n",
    "    print (nR)\n",
    "\n"
   ]
  },
  {
   "cell_type": "code",
   "execution_count": 2,
   "id": "8738e192",
   "metadata": {},
   "outputs": [],
   "source": [
    "#b)"
   ]
  },
  {
   "cell_type": "markdown",
   "id": "0d61a41e",
   "metadata": {},
   "source": [
    "## Exercise 5"
   ]
  },
  {
   "cell_type": "markdown",
   "id": "4f166720",
   "metadata": {},
   "source": [
    "## Exercise 6 Bonus"
   ]
  }
 ],
 "metadata": {
  "kernelspec": {
   "display_name": "Python 3 (ipykernel)",
   "language": "python",
   "name": "python3"
  },
  "language_info": {
   "codemirror_mode": {
    "name": "ipython",
    "version": 3
   },
   "file_extension": ".py",
   "mimetype": "text/x-python",
   "name": "python",
   "nbconvert_exporter": "python",
   "pygments_lexer": "ipython3",
   "version": "3.8.10"
  },
  "vscode": {
   "interpreter": {
    "hash": "916dbcbb3f70747c44a77c7bcd40155683ae19c65e1c03b4aa3499c5328201f1"
   }
  }
 },
 "nbformat": 4,
 "nbformat_minor": 5
}
